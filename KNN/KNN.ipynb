{
 "cells": [
  {
   "cell_type": "code",
   "execution_count": 7,
   "id": "55da2ebf",
   "metadata": {},
   "outputs": [],
   "source": [
    "import numpy as np \n",
    "import pandas as pd\n",
    "from sklearn.neighbors import KNeighborsClassifier\n",
    "from sklearn.model_selection import train_test_split  \n",
    "from sklearn import metrics"
   ]
  },
  {
   "cell_type": "code",
   "execution_count": 8,
   "id": "cd9cd89e",
   "metadata": {},
   "outputs": [],
   "source": [
    "names = ['sepal-length', 'sepal-width', 'petal-length', 'petal-width', 'Class']"
   ]
  },
  {
   "cell_type": "code",
   "execution_count": 9,
   "id": "39d755fb",
   "metadata": {},
   "outputs": [
    {
     "name": "stderr",
     "output_type": "stream",
     "text": [
      "C:\\Users\\Admin\\anaconda3\\lib\\site-packages\\sklearn\\neighbors\\_classification.py:228: FutureWarning: Unlike other reduction functions (e.g. `skew`, `kurtosis`), the default behavior of `mode` typically preserves the axis it acts along. In SciPy 1.11.0, this behavior will change: the default value of `keepdims` will become False, the `axis` over which the statistic is taken will be eliminated, and the value None will no longer be accepted. Set `keepdims` to True or False to avoid this warning.\n",
      "  mode, _ = stats.mode(_y[neigh_ind, k], axis=1)\n"
     ]
    }
   ],
   "source": [
    "# Read dataset to pandas dataframe\n",
    "dataset = pd.read_csv(r\"IRISdataset.csv\", names=names)\n",
    "X = dataset.iloc[:, :-1]  \n",
    "y = dataset.iloc[:, -1]\n",
    "Xtrain, Xtest, ytrain, ytest = train_test_split(X, y, test_size=0.10) \n",
    "\n",
    "classifier = KNeighborsClassifier(n_neighbors=5).fit(Xtrain, ytrain) \n",
    "\n",
    "ypred = classifier.predict(Xtest)"
   ]
  },
  {
   "cell_type": "code",
   "execution_count": 10,
   "id": "e0036367",
   "metadata": {},
   "outputs": [
    {
     "name": "stdout",
     "output_type": "stream",
     "text": [
      "Original Label            Predicted Label           Correct/Wrong            \n",
      "Iris-versicolor           Iris-versicolor           Correct                  \n",
      "Iris-versicolor           Iris-versicolor           Correct                  \n",
      "Iris-virginica            Iris-virginica            Correct                  \n",
      "Iris-setosa               Iris-setosa               Correct                  \n",
      "Iris-versicolor           Iris-virginica            Wrong                    \n",
      "Iris-virginica            Iris-virginica            Correct                  \n",
      "Iris-versicolor           Iris-versicolor           Correct                  \n",
      "Iris-versicolor           Iris-versicolor           Correct                  \n",
      "Iris-versicolor           Iris-versicolor           Correct                  \n",
      "Iris-virginica            Iris-virginica            Correct                  \n",
      "Iris-versicolor           Iris-versicolor           Correct                  \n",
      "Iris-virginica            Iris-virginica            Correct                  \n",
      "Iris-virginica            Iris-virginica            Correct                  \n",
      "Iris-versicolor           Iris-versicolor           Correct                  \n",
      "Iris-versicolor           Iris-versicolor           Correct                  \n"
     ]
    }
   ],
   "source": [
    "i = 0\n",
    "print ('%-25s %-25s %-25s' % ('Original Label', 'Predicted Label', 'Correct/Wrong'))\n",
    "for label in ytest:\n",
    "    print ('%-25s %-25s' % (label, ypred[i]), end=\"\")\n",
    "    if (label == ypred[i]):\n",
    "        print (' %-25s' % ('Correct'))\n",
    "    else:\n",
    "        print (' %-25s' % ('Wrong'))\n",
    "    i = i + 1"
   ]
  },
  {
   "cell_type": "code",
   "execution_count": null,
   "id": "b946a290",
   "metadata": {},
   "outputs": [],
   "source": []
  },
  {
   "cell_type": "code",
   "execution_count": null,
   "id": "c9ebddf1",
   "metadata": {},
   "outputs": [],
   "source": []
  },
  {
   "cell_type": "code",
   "execution_count": null,
   "id": "f684d928",
   "metadata": {},
   "outputs": [],
   "source": []
  },
  {
   "cell_type": "code",
   "execution_count": null,
   "id": "12fce5c0",
   "metadata": {},
   "outputs": [],
   "source": []
  },
  {
   "cell_type": "code",
   "execution_count": null,
   "id": "62ab98bc",
   "metadata": {},
   "outputs": [],
   "source": [
    "import numpy as np\n",
    "from sklearn.datasets import load_iris\n",
    "from sklearn.model_selection import train_test_split\n",
    "from sklearn.preprocessing import StandardScaler\n",
    "import matplotlib.pyplot as plt\n",
    "\n",
    "# Load the Iris dataset\n",
    "iris = load_iris()\n",
    "X, y = iris.data, iris.target\n",
    "\n",
    "# Split the dataset into training and testing sets\n",
    "X_train, X_test, y_train, y_test = train_test_split(X, y, test_size=0.2, random_state=42)\n",
    "\n",
    "# Standardize the features\n",
    "scaler = StandardScaler()\n",
    "X_train = scaler.fit_transform(X_train)\n",
    "X_test = scaler.transform(X_test)\n",
    "\n",
    "# KNN function\n",
    "def knn(X_train, y_train, X_test, k):\n",
    "    distances = np.sqrt(np.sum((X_train - X_test)**2, axis=1))\n",
    "    nearest_indices = np.argsort(distances)[:k]\n",
    "    nearest_labels = y_train[nearest_indices]\n",
    "    unique_labels, label_counts = np.unique(nearest_labels, return_counts=True)\n",
    "    predicted_label = unique_labels[np.argmax(label_counts)]\n",
    "    return predicted_label\n",
    "\n",
    "# Predict the labels for the test set\n",
    "k = 3  # Number of neighbors\n",
    "predictions = []\n",
    "for i in range(len(X_test)):\n",
    "    predicted_label = knn(X_train, y_train, X_test[i], k)\n",
    "    predictions.append(predicted_label)\n",
    "\n",
    "# Calculate accuracy\n",
    "accuracy = np.mean(predictions == y_test)\n",
    "print(\"Accuracy:\", accuracy)\n",
    "\n",
    "# Visualize the Iris dataset\n",
    "plt.scatter(X[:, 0], X[:, 1], c=y, cmap='viridis')\n",
    "plt.xlabel('Sepal length (cm)')\n",
    "plt.ylabel('Sepal width (cm)')\n",
    "plt.title('Iris Dataset')\n",
    "plt.show()"
   ]
  }
 ],
 "metadata": {
  "kernelspec": {
   "display_name": "Python 3 (ipykernel)",
   "language": "python",
   "name": "python3"
  },
  "language_info": {
   "codemirror_mode": {
    "name": "ipython",
    "version": 3
   },
   "file_extension": ".py",
   "mimetype": "text/x-python",
   "name": "python",
   "nbconvert_exporter": "python",
   "pygments_lexer": "ipython3",
   "version": "3.9.13"
  }
 },
 "nbformat": 4,
 "nbformat_minor": 5
}
