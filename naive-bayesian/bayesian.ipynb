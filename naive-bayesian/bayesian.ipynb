{
 "cells": [
  {
   "cell_type": "code",
   "execution_count": 27,
   "metadata": {},
   "outputs": [],
   "source": [
    "import numpy as np\n",
    "import math\n",
    "import csv\n",
    "import pdb"
   ]
  },
  {
   "cell_type": "code",
   "execution_count": 28,
   "metadata": {},
   "outputs": [],
   "source": [
    "def read_data(filename):\n",
    "\n",
    "    with open(filename,'r') as csvfile:\n",
    "        datareader = csv.reader(csvfile)\n",
    "        metadata = next(datareader)\n",
    "        traindata=[]\n",
    "        for row in datareader:\n",
    "            traindata.append(row)\n",
    "\n",
    "    return (metadata, traindata)"
   ]
  },
  {
   "cell_type": "code",
   "execution_count": 29,
   "metadata": {},
   "outputs": [],
   "source": [
    "def splitDataset(dataset, splitRatio):\n",
    "    trainSize = int(len(dataset) * splitRatio)\n",
    "    trainSet = []\n",
    "    testset = list(dataset)\n",
    "    i=0\n",
    "    while len(trainSet) < trainSize:\n",
    "        trainSet.append(testset.pop(i))\n",
    "    return [trainSet, testset]"
   ]
  },
  {
   "cell_type": "code",
   "execution_count": 30,
   "metadata": {},
   "outputs": [],
   "source": [
    "def classify(data,test):\n",
    "\n",
    "    total_size = data.shape[0]\n",
    "    print(\"\\n\")\n",
    "    print(\"training data size=\",total_size)\n",
    "    print(\"test data size=\",test.shape[0])\n",
    "\n",
    "    countYes = 0\n",
    "    countNo = 0\n",
    "    probYes = 0\n",
    "    probNo = 0\n",
    "    print(\"\\n\")\n",
    "    print(\"target    count    probability\")\n",
    "\n",
    "    for x in range(data.shape[0]):\n",
    "        if data[x,data.shape[1]-1] == 'yes':\n",
    "            countYes +=1\n",
    "        if data[x,data.shape[1]-1] == 'no':\n",
    "            countNo +=1\n",
    "\n",
    "    probYes=countYes/total_size\n",
    "    probNo= countNo / total_size\n",
    "\n",
    "    print('Yes',\"\\t\",countYes,\"\\t\",probYes)\n",
    "    print('No',\"\\t\",countNo,\"\\t\",probNo)\n",
    "\n",
    "\n",
    "    prob0 =np.zeros((test.shape[1]-1))\n",
    "    prob1 =np.zeros((test.shape[1]-1))\n",
    "    accuracy=0\n",
    "    print(\"\\n\")\n",
    "    print(\"instance prediction  target\")\n",
    "\n",
    "    for t in range(test.shape[0]):\n",
    "        for k in range (test.shape[1]-1):\n",
    "            count1=count0=0\n",
    "            for j in range (data.shape[0]):\n",
    "                #how many times appeared with no\n",
    "                if test[t,k] == data[j,k] and data[j,data.shape[1]-1]=='no':\n",
    "                    count0+=1\n",
    "                #how many times appeared with yes\n",
    "                if test[t,k]==data[j,k] and data[j,data.shape[1]-1]=='yes':\n",
    "                    count1+=1\n",
    "            prob0[k]=count0/countNo\n",
    "            prob1[k]=count1/countYes\n",
    "\n",
    "        probno=probNo\n",
    "        probyes=probYes\n",
    "        for i in range(test.shape[1]-1):\n",
    "            probno=probno*prob0[i]\n",
    "            probyes=probyes*prob1[i]\n",
    "        if probno>probyes:\n",
    "            predict='no'\n",
    "        else:\n",
    "            predict='yes'\n",
    "\n",
    "        print(t+1,\"\\t\",predict,\"\\t    \",test[t,test.shape[1]-1])\n",
    "        if predict == test[t,test.shape[1]-1]:\n",
    "            accuracy+=1\n",
    "    final_accuracy=(accuracy/test.shape[0])*100\n",
    "    print(\"accuracy\",final_accuracy,\"%\")\n",
    "    return"
   ]
  },
  {
   "cell_type": "code",
   "execution_count": 31,
   "metadata": {},
   "outputs": [
    {
     "name": "stdout",
     "output_type": "stream",
     "text": [
      "\n",
      " The Training data set are:\n",
      "['sunny', 'good', 'full', '100', 'yes']\n",
      "['rainy', 'good', 'full', '100', 'yes']\n",
      "['snowy', 'good', 'full', '100', 'no']\n",
      "['sunny', 'bad', 'full', '100', 'no']\n",
      "['rainy', 'bad', 'full', '100', 'yes']\n",
      "['snowy', 'bad', 'full', '100', 'no']\n",
      "['sunny', 'good', 'half', '100', 'yes']\n",
      "['rainy', 'good', 'half', '100', 'yes']\n",
      "['snowy', 'good', 'half', '100', 'no']\n",
      "['sunny', 'bad', 'half', '100', 'no']\n",
      "['rainy', 'bad', 'half', '100', 'yes']\n",
      "['snowy', 'bad', 'half', '100', 'yes']\n",
      "['sunny', 'good', 'empty', '100', 'no']\n",
      "['rainy', 'good', 'empty', '100', 'yes']\n"
     ]
    }
   ],
   "source": [
    "metadata,traindata= read_data(\"Data.csv\")\n",
    "splitRatio=0.8\n",
    "trainingset, testset=splitDataset(traindata, splitRatio)\n",
    "training=np.array(trainingset)\n",
    "print(\"\\n The Training data set are:\")\n",
    "for x in trainingset:\n",
    "    print(x)\n",
    "   "
   ]
  },
  {
   "cell_type": "code",
   "execution_count": 32,
   "metadata": {},
   "outputs": [
    {
     "name": "stdout",
     "output_type": "stream",
     "text": [
      "\n",
      " The Test data set are:\n",
      "['snowy' 'good' 'empty' '100' 'no']\n",
      "['sunny' 'bad' 'empty' '100' 'yes']\n",
      "['rainy' 'bad' 'empty' '100' 'yes']\n",
      "['snowy' 'bad' 'empty' '100' 'no']\n"
     ]
    }
   ],
   "source": [
    "testing=np.array(testset)\n",
    "print(\"\\n The Test data set are:\")\n",
    "for x in testing:\n",
    "    print(x)\n",
    "    "
   ]
  },
  {
   "cell_type": "code",
   "execution_count": 33,
   "metadata": {},
   "outputs": [
    {
     "name": "stdout",
     "output_type": "stream",
     "text": [
      "\n",
      "\n",
      "training data size= 14\n",
      "test data size= 4\n",
      "\n",
      "\n",
      "target    count    probability\n",
      "Yes \t 8 \t 0.5714285714285714\n",
      "No \t 6 \t 0.42857142857142855\n",
      "\n",
      "\n",
      "instance prediction  target\n",
      "1 \t no \t     no\n",
      "2 \t no \t     yes\n",
      "3 \t yes \t     yes\n",
      "4 \t no \t     no\n",
      "accuracy 75.0 %\n"
     ]
    }
   ],
   "source": [
    "classify(training,testing)"
   ]
  },
  {
   "cell_type": "code",
   "execution_count": null,
   "metadata": {},
   "outputs": [],
   "source": []
  }
 ],
 "metadata": {
  "kernelspec": {
   "display_name": "Python 3",
   "language": "python",
   "name": "python3"
  },
  "language_info": {
   "codemirror_mode": {
    "name": "ipython",
    "version": 3
   },
   "file_extension": ".py",
   "mimetype": "text/x-python",
   "name": "python",
   "nbconvert_exporter": "python",
   "pygments_lexer": "ipython3",
   "version": "3.7.3"
  }
 },
 "nbformat": 4,
 "nbformat_minor": 2
}
