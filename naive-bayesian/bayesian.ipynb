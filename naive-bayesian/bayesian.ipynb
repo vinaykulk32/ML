{
 "cells": [
  {
   "cell_type": "code",
   "execution_count": 27,
   "metadata": {},
   "outputs": [],
   "source": [
    "from sklearn.datasets import fetch_20newsgroups\n",
    "news=fetch_20newsgroups()"
   ]
  },
  {
   "cell_type": "code",
   "execution_count": 45,
   "metadata": {},
   "outputs": [
    {
     "name": "stdout",
     "output_type": "stream",
     "text": [
      "dict_keys(['data', 'filenames', 'target_names', 'target', 'DESCR'])\n"
     ]
    },
    {
     "data": {
      "text/plain": [
       "['alt.atheism',\n",
       " 'comp.graphics',\n",
       " 'comp.os.ms-windows.misc',\n",
       " 'comp.sys.ibm.pc.hardware',\n",
       " 'comp.sys.mac.hardware',\n",
       " 'comp.windows.x',\n",
       " 'misc.forsale',\n",
       " 'rec.autos',\n",
       " 'rec.motorcycles',\n",
       " 'rec.sport.baseball',\n",
       " 'rec.sport.hockey',\n",
       " 'sci.crypt',\n",
       " 'sci.electronics',\n",
       " 'sci.med',\n",
       " 'sci.space',\n",
       " 'soc.religion.christian',\n",
       " 'talk.politics.guns',\n",
       " 'talk.politics.mideast',\n",
       " 'talk.politics.misc',\n",
       " 'talk.religion.misc']"
      ]
     },
     "execution_count": 45,
     "metadata": {},
     "output_type": "execute_result"
    }
   ],
   "source": [
    "print(news.keys())\n",
    "\n",
    "news.target\n",
    "\n",
    "news.target_names"
   ]
  },
  {
   "cell_type": "code",
   "execution_count": 53,
   "metadata": {},
   "outputs": [],
   "source": [
    "cats = ['alt.atheism', 'sci.space','comp.graphics','sci.med','soc.religion.christian','talk.politics.guns']\n",
    "news_train = fetch_20newsgroups(subset ='train', categories=cats)\n",
    "news_test = fetch_20newsgroups(subset= 'test', categories=cats)\n",
    "print(news_train . keys( ))\n",
    "print (news_train[ 'target_names'])"
   ]
  },
  {
   "cell_type": "code",
   "execution_count": 56,
   "metadata": {},
   "outputs": [
    {
     "name": "stdout",
     "output_type": "stream",
     "text": [
      "  (0, 42931)\t1\n",
      "  (0, 13284)\t1\n",
      "  (0, 31301)\t1\n",
      "  (0, 41497)\t1\n",
      "  (0, 3748)\t1\n",
      "  (0, 23433)\t1\n",
      "  (0, 42163)\t1\n",
      "  (0, 19324)\t1\n",
      "  (0, 33519)\t1\n",
      "  (0, 32360)\t1\n",
      "  (0, 8132)\t1\n",
      "  (0, 25735)\t1\n",
      "  (0, 46913)\t1\n",
      "  (0, 18416)\t1\n",
      "  (0, 8383)\t1\n",
      "  (0, 10490)\t2\n",
      "  (0, 28343)\t1\n",
      "  (0, 17426)\t1\n",
      "  (0, 45188)\t1\n",
      "  (0, 28549)\t1\n",
      "  (0, 34558)\t1\n",
      "  (0, 49534)\t2\n",
      "  (0, 45533)\t1\n",
      "  (0, 26023)\t1\n",
      "  (0, 24015)\t1\n",
      "  :\t:\n",
      "  (3395, 23098)\t1\n",
      "  (3395, 38623)\t1\n",
      "  (3395, 40285)\t1\n",
      "  (3395, 8132)\t2\n",
      "  (3395, 46913)\t1\n",
      "  (3395, 33334)\t7\n",
      "  (3395, 44710)\t1\n",
      "  (3395, 21828)\t1\n",
      "  (3395, 45077)\t6\n",
      "  (3395, 41856)\t1\n",
      "  (3395, 30153)\t1\n",
      "  (3395, 26156)\t2\n",
      "  (3395, 44619)\t11\n",
      "  (3395, 49009)\t1\n",
      "  (3395, 8843)\t1\n",
      "  (3395, 24926)\t4\n",
      "  (3395, 23975)\t1\n",
      "  (3395, 35989)\t1\n",
      "  (3395, 32645)\t1\n",
      "  (3395, 28616)\t1\n",
      "  (3395, 27835)\t1\n",
      "  (3395, 33744)\t1\n",
      "  (3395, 37831)\t1\n",
      "  (3395, 43222)\t1\n",
      "  (3395, 21181)\t2\n"
     ]
    },
    {
     "data": {
      "text/plain": [
       "(3396, 49848)"
      ]
     },
     "execution_count": 56,
     "metadata": {},
     "output_type": "execute_result"
    }
   ],
   "source": [
    "from sklearn.feature_extraction.text import CountVectorizer\n",
    "count_vect=CountVectorizer()\n",
    "X_train_tf=count_vect.fit_transform(news_train.data)\n",
    "print(X_train_tf)\n",
    "\n",
    "X_train_tf.shape"
   ]
  },
  {
   "cell_type": "code",
   "execution_count": 57,
   "metadata": {},
   "outputs": [
    {
     "data": {
      "text/plain": [
       "(3396, 49848)"
      ]
     },
     "execution_count": 57,
     "metadata": {},
     "output_type": "execute_result"
    }
   ],
   "source": [
    "from sklearn.feature_extraction.text import TfidfTransformer\n",
    "tfidf_transformer=TfidfTransformer()\n",
    "X_train_tfidf=tfidf_transformer.fit_transform(X_train_tf)\n",
    "X_train_tfidf.shape"
   ]
  },
  {
   "cell_type": "code",
   "execution_count": null,
   "metadata": {},
   "outputs": [],
   "source": [
    "from sklearn.naive_bayes import MultinomialNB\n",
    "clf = MultinomialNB().fit(X_train_tfidf, news_train.target)"
   ]
  },
  {
   "cell_type": "code",
   "execution_count": 58,
   "metadata": {},
   "outputs": [
    {
     "data": {
      "text/plain": [
       "array([2, 3, 1, ..., 5, 4, 4], dtype=int64)"
      ]
     },
     "execution_count": 58,
     "metadata": {},
     "output_type": "execute_result"
    }
   ],
   "source": [
    "X_test_tf=count_vect.transform(news_test.data)\n",
    "X_test_tfidf=tfidf_transformer.transform(X_test_tf)\n",
    "predicted=clf.predict(X_test_tfidf)\n",
    "predicted"
   ]
  },
  {
   "cell_type": "code",
   "execution_count": 59,
   "metadata": {},
   "outputs": [],
   "source": [
    "from sklearn import metrics"
   ]
  },
  {
   "cell_type": "code",
   "execution_count": 60,
   "metadata": {},
   "outputs": [
    {
     "name": "stdout",
     "output_type": "stream",
     "text": [
      "Accuracy 0.8526548672566372\n",
      "[[183   1   7   4 115   9]\n",
      " [  1 337   2  11  30   8]\n",
      " [  2   7 310   8  61   8]\n",
      " [  0   4   4 358  20   8]\n",
      " [  2   1   1   4 390   0]\n",
      " [  0   1   1   3  10 349]]\n"
     ]
    }
   ],
   "source": [
    "from sklearn.metrics import accuracy_score\n",
    "print(\"Accuracy\",accuracy_score(news_test.target,predicted))\n",
    "print(metrics.confusion_matrix(news_test.target,predicted))"
   ]
  }
 ],
 "metadata": {
  "kernelspec": {
   "display_name": "Python 3",
   "language": "python",
   "name": "python3"
  },
  "language_info": {
   "codemirror_mode": {
    "name": "ipython",
    "version": 3
   },
   "file_extension": ".py",
   "mimetype": "text/x-python",
   "name": "python",
   "nbconvert_exporter": "python",
   "pygments_lexer": "ipython3",
   "version": "3.7.3"
  }
 },
 "nbformat": 4,
 "nbformat_minor": 2
}
