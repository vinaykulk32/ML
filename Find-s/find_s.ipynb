{
 "cells": [
  {
   "cell_type": "code",
   "execution_count": 1,
   "id": "5fa2552d",
   "metadata": {},
   "outputs": [],
   "source": [
    "# Importing libearies\n",
    "import pandas as pd\n",
    "import numpy as np"
   ]
  },
  {
   "cell_type": "code",
   "execution_count": 2,
   "id": "28a9c3ed",
   "metadata": {},
   "outputs": [
    {
     "name": "stdout",
     "output_type": "stream",
     "text": [
      "    Color Toughness Fungus Appearance Texture  Diameter  Weight Poisonous\n",
      "0   GREEN      HARD     NO   WRINKLED   ROUGH       5.2    10.1       YES\n",
      "1   GREEN      HARD    YES     SMOOTH  SMOOTH       6.8    12.3        NO\n",
      "2   BROWN      SOFT     NO   WRINKLED   ROUGH       4.1     6.8        NO\n",
      "3  ORANGE      HARD     NO   WRINKLED  SMOOTH       5.7     9.2       YES\n",
      "4   GREEN      SOFT    YES     SMOOTH  SMOOTH       7.2    14.5       YES\n",
      "5   GREEN      HARD    YES   WRINKLED   ROUGH       6.3    11.8       YES\n",
      "6  ORANGE      HARD     NO   WRINKLED  SMOOTH       5.9     9.7       YES\n"
     ]
    }
   ],
   "source": [
    "#  reading csv sample data\n",
    "data=pd.read_csv('Data.csv')\n",
    "print(data)"
   ]
  },
  {
   "cell_type": "code",
   "execution_count": 3,
   "id": "ceb5598a",
   "metadata": {},
   "outputs": [
    {
     "name": "stdout",
     "output_type": "stream",
     "text": [
      "[['GREEN' 'HARD' 'NO' 'WRINKLED' 'ROUGH' 5.2 10.1]\n",
      " ['GREEN' 'HARD' 'YES' 'SMOOTH' 'SMOOTH' 6.8 12.3]\n",
      " ['BROWN' 'SOFT' 'NO' 'WRINKLED' 'ROUGH' 4.1 6.8]\n",
      " ['ORANGE' 'HARD' 'NO' 'WRINKLED' 'SMOOTH' 5.7 9.2]\n",
      " ['GREEN' 'SOFT' 'YES' 'SMOOTH' 'SMOOTH' 7.2 14.5]\n",
      " ['GREEN' 'HARD' 'YES' 'WRINKLED' 'ROUGH' 6.3 11.8]\n",
      " ['ORANGE' 'HARD' 'NO' 'WRINKLED' 'SMOOTH' 5.9 9.7]]\n"
     ]
    }
   ],
   "source": [
    "# stripping all columns except last one\n",
    "row_data=np.array(data)[:, :-1]\n",
    "print(row_data)"
   ]
  },
  {
   "cell_type": "code",
   "execution_count": 4,
   "id": "69cca04e",
   "metadata": {},
   "outputs": [
    {
     "name": "stdout",
     "output_type": "stream",
     "text": [
      "['YES' 'NO' 'NO' 'YES' 'YES' 'YES' 'YES']\n"
     ]
    }
   ],
   "source": [
    "# stripping last column \n",
    "target=np.array(data)[:, -1]\n",
    "print(target)"
   ]
  },
  {
   "cell_type": "code",
   "execution_count": 5,
   "id": "c5761aaf",
   "metadata": {},
   "outputs": [],
   "source": [
    "# performing find -s algo\n",
    "def find_s(c, t):\n",
    "    specific_hypothesis= []\n",
    "    for i, val in enumerate(t):\n",
    "        if val==\"YES\":\n",
    "            specific_hypothesis=c[i].copy()\n",
    "            break\n",
    "\n",
    "    for i, val in enumerate(c):\n",
    "        if t[i] == \"YES\":\n",
    "            for x in range(len(specific_hypothesis)):\n",
    "                if val[x] != specific_hypothesis[x]:\n",
    "                    specific_hypothesis[x] = '?'\n",
    "                else:\n",
    "                    pass\n",
    "\n",
    "    return specific_hypothesis"
   ]
  },
  {
   "cell_type": "code",
   "execution_count": 6,
   "id": "4216d6f7",
   "metadata": {},
   "outputs": [
    {
     "name": "stdout",
     "output_type": "stream",
     "text": [
      "['?' '?' '?' '?' '?' '?' '?']\n"
     ]
    }
   ],
   "source": [
    "print(find_s(row_data,target))"
   ]
  }
 ],
 "metadata": {
  "kernelspec": {
   "display_name": "Python 3 (ipykernel)",
   "language": "python",
   "name": "python3"
  },
  "language_info": {
   "codemirror_mode": {
    "name": "ipython",
    "version": 3
   },
   "file_extension": ".py",
   "mimetype": "text/x-python",
   "name": "python",
   "nbconvert_exporter": "python",
   "pygments_lexer": "ipython3",
   "version": "3.9.13"
  }
 },
 "nbformat": 4,
 "nbformat_minor": 5
}
